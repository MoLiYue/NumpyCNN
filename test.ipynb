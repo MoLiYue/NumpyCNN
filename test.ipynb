{
 "metadata": {
  "orig_nbformat": 2,
  "kernelspec": {
   "name": "python3",
   "display_name": "Python 3",
   "language": "python"
  }
 },
 "nbformat": 4,
 "nbformat_minor": 2,
 "cells": [
  {
   "cell_type": "code",
   "execution_count": 68,
   "metadata": {},
   "outputs": [
    {
     "output_type": "stream",
     "name": "stdout",
     "text": [
      "[[0.12392157 0.12392157 0.12392157 ... 0.08284314 0.08284314 0.08284314]\n [0.12392157 0.12392157 0.12392157 ... 0.08284314 0.08284314 0.08284314]\n [0.12392157 0.12392157 0.12392157 ... 0.08284314 0.08284314 0.08284314]\n ...\n [0.08257529 0.07865373 0.07865373 ... 0.10236784 0.10236784 0.10236784]\n [0.08340863 0.08257529 0.07865373 ... 0.10236784 0.10236784 0.10236784]\n [0.08340863 0.08257529 0.07865373 ... 0.10236784 0.10236784 0.10236784]]\n"
     ]
    }
   ],
   "source": [
    "import skimage\n",
    "from skimage import io\n",
    "image = skimage.io.imread(fname = \"D://OneDrive//Git_proj//NumpyCNN//WechatIMG1994.jpeg\")\n",
    "\n",
    "image = skimage.color.rgb2gray(image)\n",
    "print(image)"
   ]
  },
  {
   "cell_type": "code",
   "execution_count": 36,
   "metadata": {},
   "outputs": [
    {
     "output_type": "stream",
     "name": "stderr",
     "text": [
      "Lossy conversion from float64 to uint8. Range [0, 1]. Convert image to uint8 prior to saving to suppress this warning.\n"
     ]
    }
   ],
   "source": [
    "skimage.io.imsave(fname = \"D://OneDrive//Git_proj//NumpyCNN//test.jpeg\", arr = image)"
   ]
  },
  {
   "cell_type": "code",
   "execution_count": 37,
   "metadata": {},
   "outputs": [
    {
     "output_type": "stream",
     "name": "stdout",
     "text": [
      "[[[0. 0. 0.]\n  [0. 0. 0.]\n  [0. 0. 0.]]\n\n [[0. 0. 0.]\n  [0. 0. 0.]\n  [0. 0. 0.]]]\n3\n"
     ]
    }
   ],
   "source": [
    "import numpy as np\n",
    "l1_filter = np.zeros((2,3,3))\n",
    "print(l1_filter)\n",
    "l1_filter[0,:,:] = np.array([[[-1,0,1],\n",
    "                              [-1,0,1],\n",
    "                              [-1,0,1]]])\n",
    "l1_filter[1,:,:] = np.array([[[1,1,1],\n",
    "                              [0,0,0],\n",
    "                              [-1,-1,-1]]])\n",
    "print(l1_filter.shape[2])"
   ]
  },
  {
   "cell_type": "code",
   "execution_count": 38,
   "metadata": {},
   "outputs": [
    {
     "output_type": "stream",
     "name": "stdout",
     "text": [
      "(640, 1024)\n"
     ]
    }
   ],
   "source": [
    "import skimage.data\n",
    "img = skimage.io.imread(fname = \"D://OneDrive//Git_proj//NumpyCNN//WechatIMG1994.jpeg\")\n",
    "\n",
    "img = skimage.color.rgb2gray(img)\n",
    "print(img.shape)"
   ]
  },
  {
   "cell_type": "code",
   "execution_count": 39,
   "metadata": {},
   "outputs": [
    {
     "output_type": "stream",
     "name": "stdout",
     "text": [
      "原始数组：\n[1.5 2.5]\n"
     ]
    }
   ],
   "source": [
    "a = np.arange(3/2, 7/2)\n",
    "print ('原始数组：')\n",
    "print (a)"
   ]
  },
  {
   "cell_type": "code",
   "execution_count": 40,
   "metadata": {},
   "outputs": [
    {
     "output_type": "stream",
     "name": "stdout",
     "text": [
      "原始数组：\n[1.5 2.5]\n"
     ]
    }
   ],
   "source": [
    "a = np.arange(3/2.0, 7/2.0)\n",
    "print ('原始数组：')\n",
    "print (a)"
   ]
  },
  {
   "cell_type": "code",
   "execution_count": 41,
   "metadata": {},
   "outputs": [
    {
     "output_type": "stream",
     "name": "stdout",
     "text": [
      "原始数组：\n[1 2]\n"
     ]
    }
   ],
   "source": [
    "a = np.uint16(np.arange(3/2.0, 7/2.0))\n",
    "print ('原始数组：')\n",
    "print (a)"
   ]
  },
  {
   "cell_type": "code",
   "execution_count": 42,
   "metadata": {},
   "outputs": [
    {
     "output_type": "execute_result",
     "data": {
      "text/plain": [
       "1.0"
      ]
     },
     "metadata": {},
     "execution_count": 42
    }
   ],
   "source": [
    "np.floor(3/2.0)"
   ]
  },
  {
   "cell_type": "code",
   "execution_count": 43,
   "metadata": {},
   "outputs": [
    {
     "output_type": "execute_result",
     "data": {
      "text/plain": [
       "1"
      ]
     },
     "metadata": {},
     "execution_count": 43
    }
   ],
   "source": [
    "np.uint16(np.floor(3/2.0))"
   ]
  },
  {
   "cell_type": "code",
   "execution_count": 44,
   "metadata": {},
   "outputs": [
    {
     "output_type": "execute_result",
     "data": {
      "text/plain": [
       "2.0"
      ]
     },
     "metadata": {},
     "execution_count": 44
    }
   ],
   "source": [
    "np.ceil(3/2.0)"
   ]
  },
  {
   "cell_type": "code",
   "execution_count": 84,
   "metadata": {},
   "outputs": [
    {
     "output_type": "stream",
     "name": "stdout",
     "text": [
      "[[0. 0. 0. 0. 0. 0. 0. 0. 0.]\n [0. 0. 0. 0. 0. 0. 0. 0. 0.]\n [0. 0. 0. 0. 0. 0. 0. 0. 0.]]\n2\n"
     ]
    },
    {
     "output_type": "error",
     "ename": "TypeError",
     "evalue": "list indices must be integers or slices, not tuple",
     "traceback": [
      "\u001b[1;31m---------------------------------------------------------------------------\u001b[0m",
      "\u001b[1;31mTypeError\u001b[0m                                 Traceback (most recent call last)",
      "\u001b[1;32m<ipython-input-84-21b0af00d027>\u001b[0m in \u001b[0;36m<module>\u001b[1;34m\u001b[0m\n\u001b[0;32m     12\u001b[0m \u001b[1;32mfor\u001b[0m \u001b[0mz\u001b[0m \u001b[1;32min\u001b[0m \u001b[0mrange\u001b[0m\u001b[1;33m(\u001b[0m\u001b[0mlen\u001b[0m\u001b[1;33m(\u001b[0m\u001b[0mcurr_region\u001b[0m\u001b[1;33m)\u001b[0m\u001b[1;33m)\u001b[0m\u001b[1;33m:\u001b[0m\u001b[1;33m\u001b[0m\u001b[1;33m\u001b[0m\u001b[0m\n\u001b[0;32m     13\u001b[0m     \u001b[1;32mfor\u001b[0m \u001b[0mi\u001b[0m \u001b[1;32min\u001b[0m \u001b[0mrange\u001b[0m\u001b[1;33m(\u001b[0m\u001b[0mlen\u001b[0m\u001b[1;33m(\u001b[0m\u001b[0mcurr_region\u001b[0m\u001b[1;33m[\u001b[0m\u001b[0mz\u001b[0m\u001b[1;33m]\u001b[0m\u001b[1;33m)\u001b[0m\u001b[1;33m)\u001b[0m\u001b[1;33m:\u001b[0m\u001b[1;33m\u001b[0m\u001b[1;33m\u001b[0m\u001b[0m\n\u001b[1;32m---> 14\u001b[1;33m         \u001b[0mprint\u001b[0m\u001b[1;33m(\u001b[0m\u001b[0mcurr_region\u001b[0m\u001b[1;33m[\u001b[0m\u001b[0mi\u001b[0m\u001b[1;33m,\u001b[0m\u001b[1;33m:\u001b[0m\u001b[1;33m,\u001b[0m\u001b[0mz\u001b[0m\u001b[1;33m]\u001b[0m\u001b[1;33m)\u001b[0m\u001b[1;33m\u001b[0m\u001b[1;33m\u001b[0m\u001b[0m\n\u001b[0m\u001b[0;32m     15\u001b[0m         \u001b[0mtemp\u001b[0m \u001b[1;33m+=\u001b[0m \u001b[0mcurr_region\u001b[0m\u001b[1;33m[\u001b[0m\u001b[0mi\u001b[0m\u001b[1;33m,\u001b[0m\u001b[1;33m:\u001b[0m\u001b[1;33m,\u001b[0m\u001b[0mz\u001b[0m\u001b[1;33m]\u001b[0m\u001b[1;33m\u001b[0m\u001b[1;33m\u001b[0m\u001b[0m\n\u001b[0;32m     16\u001b[0m     \u001b[0mim2col\u001b[0m\u001b[1;33m[\u001b[0m\u001b[1;36m0\u001b[0m\u001b[1;33m]\u001b[0m \u001b[1;33m=\u001b[0m \u001b[0mtemp\u001b[0m\u001b[1;33m\u001b[0m\u001b[1;33m\u001b[0m\u001b[0m\n",
      "\u001b[1;31mTypeError\u001b[0m: list indices must be integers or slices, not tuple"
     ]
    }
   ],
   "source": [
    "curr_region = [[[-1, 0, 1], \n",
    "                [-1, 0, 1], \n",
    "                [-1, 0, 1]],\n",
    "                [[-1, 0, 1], \n",
    "                [-1, 0, 1], \n",
    "                [-1, 0, 1]]]\n",
    "\n",
    "im2col = np.zeros((3,9))\n",
    "print(im2col)\n",
    "print(len(curr_region))\n",
    "   \n",
    "print(im2col)"
   ]
  },
  {
   "cell_type": "code",
   "execution_count": 27,
   "metadata": {},
   "outputs": [
    {
     "output_type": "execute_result",
     "data": {
      "text/plain": [
       "3"
      ]
     },
     "metadata": {},
     "execution_count": 27
    }
   ],
   "source": [
    "len(curr_region)"
   ]
  },
  {
   "cell_type": "code",
   "execution_count": null,
   "metadata": {},
   "outputs": [],
   "source": [
    "curr_region = [[-1, 0, 1], \n",
    "                [-1, 0, 1], \n",
    "                [-1, 0, 1]]\n",
    "im2col = np.zeros((img.shape[0]-filter_size+1,img.shape[1]-filter_size+1))\n",
    "print(im2col)\n",
    "temp = []\n",
    "for i in range(len(curr_region)):\n",
    "    temp += curr_region[i]\n",
    "im2col[0] = temp\n",
    "print(im2col)"
   ]
  },
  {
   "cell_type": "code",
   "execution_count": 61,
   "metadata": {},
   "outputs": [
    {
     "output_type": "execute_result",
     "data": {
      "text/plain": [
       "2"
      ]
     },
     "metadata": {},
     "execution_count": 61
    }
   ],
   "source": [
    "len(image.shape)"
   ]
  },
  {
   "cell_type": "code",
   "execution_count": 69,
   "metadata": {},
   "outputs": [
    {
     "output_type": "stream",
     "name": "stdout",
     "text": [
      "[[[0. 0. 0. 0. 0.]\n  [0. 0. 0. 0. 0.]\n  [0. 0. 0. 0. 0.]\n  [0. 0. 0. 0. 0.]\n  [0. 0. 0. 0. 0.]]\n\n [[0. 0. 0. 0. 0.]\n  [0. 0. 0. 0. 0.]\n  [0. 0. 0. 0. 0.]\n  [0. 0. 0. 0. 0.]\n  [0. 0. 0. 0. 0.]]]\n"
     ]
    }
   ],
   "source": [
    "feature_maps = np.zeros((2, 5, 5))\n",
    "print(feature_maps)"
   ]
  },
  {
   "cell_type": "code",
   "execution_count": 76,
   "metadata": {},
   "outputs": [
    {
     "output_type": "stream",
     "name": "stdout",
     "text": [
      "[[-1.  0.  1.]\n [-1.  0.  1.]\n [-1.  0.  1.]]\n"
     ]
    }
   ],
   "source": [
    "conv_filter = np.zeros((2,3,3))\n",
    "conv_filter[0, :, :] = np.array([[[-1, 0, 1], \n",
    "                                [-1, 0, 1], \n",
    "                                [-1, 0, 1]]])\n",
    "curr_filter = conv_filter[0, :]\n",
    "print(curr_filter)"
   ]
  },
  {
   "cell_type": "code",
   "execution_count": 78,
   "metadata": {},
   "outputs": [
    {
     "output_type": "stream",
     "name": "stdout",
     "text": [
      "[[[2. 2. 2.]\n  [2. 2. 2.]\n  [2. 2. 2.]]\n\n [[2. 2. 2.]\n  [2. 2. 2.]\n  [2. 2. 2.]]]\n"
     ]
    }
   ],
   "source": [
    "#5,5->3,3\n",
    "#4,4->2,2\n",
    "conv_filter1 = np.ones((2,3,3))\n",
    "conv_filter2 = np.ones((2,3,3))\n",
    "\n",
    "conv_filter1 = conv_filter1 + conv_filter2\n",
    "print(conv_filter1)"
   ]
  },
  {
   "cell_type": "code",
   "execution_count": null,
   "metadata": {},
   "outputs": [],
   "source": []
  }
 ]
}