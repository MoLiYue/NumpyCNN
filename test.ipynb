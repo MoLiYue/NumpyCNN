{
 "metadata": {
  "orig_nbformat": 2,
  "kernelspec": {
   "name": "python3",
   "display_name": "Python 3",
   "language": "python"
  }
 },
 "nbformat": 4,
 "nbformat_minor": 2,
 "cells": [
  {
   "cell_type": "code",
   "execution_count": 4,
   "metadata": {},
   "outputs": [
    {
     "output_type": "error",
     "ename": "SyntaxError",
     "evalue": "(unicode error) 'unicodeescape' codec can't decode bytes in position 20-21: malformed \\N character escape (<ipython-input-4-c23a290f1977>, line 3)",
     "traceback": [
      "\u001b[1;36m  File \u001b[1;32m\"<ipython-input-4-c23a290f1977>\"\u001b[1;36m, line \u001b[1;32m3\u001b[0m\n\u001b[1;33m    image = skimage.io.imread(\"D:\\OneDrive\\Git_proj\\NumpyCNN\\WechatIMG1994.jpeg\")\u001b[0m\n\u001b[1;37m                                                                                ^\u001b[0m\n\u001b[1;31mSyntaxError\u001b[0m\u001b[1;31m:\u001b[0m (unicode error) 'unicodeescape' codec can't decode bytes in position 20-21: malformed \\N character escape\n"
     ]
    }
   ],
   "source": [
    "import skimage\n",
    "\n",
    "image = skimage.io.imread(fname = \"D:\\OneDrive\\Git_proj\\NumpyCNN\\WechatIMG1994.jpeg\", as_grey = True)"
   ]
  },
  {
   "cell_type": "code",
   "execution_count": 5,
   "metadata": {},
   "outputs": [
    {
     "output_type": "error",
     "ename": "SyntaxError",
     "evalue": "(unicode error) 'unicodeescape' codec can't decode bytes in position 20-21: malformed \\N character escape (<ipython-input-5-addf280a8b38>, line 1)",
     "traceback": [
      "\u001b[1;36m  File \u001b[1;32m\"<ipython-input-5-addf280a8b38>\"\u001b[1;36m, line \u001b[1;32m1\u001b[0m\n\u001b[1;33m    skimage.io.imsave(fname = \"D:\\OneDrive\\Git_proj\\NumpyCNN\\test.jpeg\", arr = image)\u001b[0m\n\u001b[1;37m                                                                       ^\u001b[0m\n\u001b[1;31mSyntaxError\u001b[0m\u001b[1;31m:\u001b[0m (unicode error) 'unicodeescape' codec can't decode bytes in position 20-21: malformed \\N character escape\n"
     ]
    }
   ],
   "source": [
    "skimage.io.imsave(fname = \"D:\\OneDrive\\Git_proj\\NumpyCNN\\test.jpeg\", arr = image)"
   ]
  },
  {
   "cell_type": "code",
   "execution_count": null,
   "metadata": {},
   "outputs": [],
   "source": []
  }
 ]
}